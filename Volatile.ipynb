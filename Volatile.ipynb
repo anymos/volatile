{
  "nbformat": 4,
  "nbformat_minor": 0,
  "metadata": {
    "colab": {
      "name": "Volatile.ipynb",
      "provenance": [],
      "collapsed_sections": []
    },
    "kernelspec": {
      "name": "python3",
      "display_name": "Python 3"
    }
  },
  "cells": [
    {
      "cell_type": "markdown",
      "metadata": {
        "id": "qw0v71YRo2K5"
      },
      "source": [
        "# Volatile: your day-to-day trading companion.\n",
        "Welcome to **Volatile**. Please run the code in the prescribed order by clicking the \"Play\" button on the left of each cell. "
      ]
    },
    {
      "cell_type": "code",
      "metadata": {
        "id": "P2TXNhRSQUb4"
      },
      "source": [
        "# install necessary packages\n",
        "!pip install -q yfinance"
      ],
      "execution_count": null,
      "outputs": []
    },
    {
      "cell_type": "code",
      "metadata": {
        "id": "hUM0i6Kuj0x8"
      },
      "source": [
        "# specify path to current directory\n",
        "%cd /content"
      ],
      "execution_count": null,
      "outputs": []
    },
    {
      "cell_type": "code",
      "metadata": {
        "id": "f-aXK39Qkj2D"
      },
      "source": [
        "# for clean installation, remove previous folders named \"volatile\", if any\n",
        "%rm -rf volatile"
      ],
      "execution_count": 3,
      "outputs": []
    },
    {
      "cell_type": "code",
      "metadata": {
        "id": "IwtldhGDP_vf"
      },
      "source": [
        "# download Volatile's repository from GitHub\n",
        "!git clone https://github.com/gianlucadetommaso/volatile.git"
      ],
      "execution_count": null,
      "outputs": []
    },
    {
      "cell_type": "code",
      "metadata": {
        "id": "qbTwP-iSficL"
      },
      "source": [
        "# access Volatile's main directory\n",
        "%cd volatile"
      ],
      "execution_count": null,
      "outputs": []
    },
    {
      "cell_type": "code",
      "metadata": {
        "id": "5qph0CC87qa0"
      },
      "source": [
        "# run Volatile. Files may be saved in the current directory. Click on the folder \n",
        "# icon on the left and follow the current path to access them.\n",
        "!python volatile.py"
      ],
      "execution_count": null,
      "outputs": []
    },
    {
      "cell_type": "code",
      "metadata": {
        "id": "UIgG4x73o254"
      },
      "source": [
        ""
      ],
      "execution_count": null,
      "outputs": []
    }
  ]
}